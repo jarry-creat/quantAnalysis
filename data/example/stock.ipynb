{
 "cells": [
  {
   "cell_type": "code",
   "execution_count": null,
   "metadata": {},
   "outputs": [],
   "source": [
    "from jqdatasdk import *\n",
    "auth('18161870857','ZTYhyh123123') \n",
    "import datetime\n",
    "import pandas as pd\n",
    "# 设置行列不忽略\n",
    "pd.set_option('display.max_rows',10000)\n",
    "pd.set_option('display.max_columns',1000)"
   ]
  },
  {
   "cell_type": "code",
   "execution_count": 9,
   "metadata": {},
   "outputs": [],
   "source": [
    "import stock as st"
   ]
  },
  {
   "cell_type": "code",
   "execution_count": 10,
   "metadata": {},
   "outputs": [
    {
     "name": "stdout",
     "output_type": "stream",
     "text": [
      "已成功存储至:  C:/Users/吕强/Desktop/quantAnalysis/data/price/000001.XSHG.csv\n"
     ]
    },
    {
     "data": {
      "text/html": [
       "<div>\n",
       "<style scoped>\n",
       "    .dataframe tbody tr th:only-of-type {\n",
       "        vertical-align: middle;\n",
       "    }\n",
       "\n",
       "    .dataframe tbody tr th {\n",
       "        vertical-align: top;\n",
       "    }\n",
       "\n",
       "    .dataframe thead th {\n",
       "        text-align: right;\n",
       "    }\n",
       "</style>\n",
       "<table border=\"1\" class=\"dataframe\">\n",
       "  <thead>\n",
       "    <tr style=\"text-align: right;\">\n",
       "      <th></th>\n",
       "      <th>open</th>\n",
       "      <th>close</th>\n",
       "      <th>high</th>\n",
       "      <th>low</th>\n",
       "      <th>volume</th>\n",
       "      <th>money</th>\n",
       "    </tr>\n",
       "    <tr>\n",
       "      <th>date</th>\n",
       "      <th></th>\n",
       "      <th></th>\n",
       "      <th></th>\n",
       "      <th></th>\n",
       "      <th></th>\n",
       "      <th></th>\n",
       "    </tr>\n",
       "  </thead>\n",
       "  <tbody>\n",
       "    <tr>\n",
       "      <th>2022-06-30</th>\n",
       "      <td>3358.93</td>\n",
       "      <td>3398.62</td>\n",
       "      <td>3417.01</td>\n",
       "      <td>3358.93</td>\n",
       "      <td>3.812432e+10</td>\n",
       "      <td>5.103072e+11</td>\n",
       "    </tr>\n",
       "    <tr>\n",
       "      <th>2022-07-01</th>\n",
       "      <td>3400.26</td>\n",
       "      <td>3387.64</td>\n",
       "      <td>3404.05</td>\n",
       "      <td>3378.36</td>\n",
       "      <td>3.504893e+10</td>\n",
       "      <td>4.584353e+11</td>\n",
       "    </tr>\n",
       "    <tr>\n",
       "      <th>2022-07-04</th>\n",
       "      <td>3381.82</td>\n",
       "      <td>3405.43</td>\n",
       "      <td>3405.62</td>\n",
       "      <td>3364.09</td>\n",
       "      <td>3.577379e+10</td>\n",
       "      <td>4.893480e+11</td>\n",
       "    </tr>\n",
       "    <tr>\n",
       "      <th>2022-07-05</th>\n",
       "      <td>3411.13</td>\n",
       "      <td>3404.03</td>\n",
       "      <td>3424.84</td>\n",
       "      <td>3372.06</td>\n",
       "      <td>4.116997e+10</td>\n",
       "      <td>5.166057e+11</td>\n",
       "    </tr>\n",
       "    <tr>\n",
       "      <th>2022-07-06</th>\n",
       "      <td>3391.03</td>\n",
       "      <td>3355.35</td>\n",
       "      <td>3391.03</td>\n",
       "      <td>3333.10</td>\n",
       "      <td>3.846300e+10</td>\n",
       "      <td>4.874747e+11</td>\n",
       "    </tr>\n",
       "  </tbody>\n",
       "</table>\n",
       "</div>"
      ],
      "text/plain": [
       "               open    close     high      low        volume         money\n",
       "date                                                                      \n",
       "2022-06-30  3358.93  3398.62  3417.01  3358.93  3.812432e+10  5.103072e+11\n",
       "2022-07-01  3400.26  3387.64  3404.05  3378.36  3.504893e+10  4.584353e+11\n",
       "2022-07-04  3381.82  3405.43  3405.62  3364.09  3.577379e+10  4.893480e+11\n",
       "2022-07-05  3411.13  3404.03  3424.84  3372.06  4.116997e+10  5.166057e+11\n",
       "2022-07-06  3391.03  3355.35  3391.03  3333.10  3.846300e+10  4.874747e+11"
      ]
     },
     "execution_count": 10,
     "metadata": {},
     "output_type": "execute_result"
    }
   ],
   "source": [
    "# 调用一只股票的行情数据\n",
    "code = '000001.XSHG'\n",
    "data = st.get_single_stock_price(code=code,\n",
    "                                 time_freq='daily',\n",
    "                                 start_date='2022-06-30',\n",
    "                                 end_date='2022-12-30'\n",
    "                                 )\n",
    "# 存入csv\n",
    "st.export_data(data=data,filename=code,type='price')\n",
    "data.head()\n"
   ]
  },
  {
   "cell_type": "code",
   "execution_count": null,
   "metadata": {},
   "outputs": [],
   "source": []
  }
 ],
 "metadata": {
  "kernelspec": {
   "display_name": "dd",
   "language": "python",
   "name": "python3"
  },
  "language_info": {
   "codemirror_mode": {
    "name": "ipython",
    "version": 3
   },
   "file_extension": ".py",
   "mimetype": "text/x-python",
   "name": "python",
   "nbconvert_exporter": "python",
   "pygments_lexer": "ipython3",
   "version": "3.9.17"
  },
  "orig_nbformat": 4
 },
 "nbformat": 4,
 "nbformat_minor": 2
}
