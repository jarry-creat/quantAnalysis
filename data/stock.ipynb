{
 "cells": [
  {
   "cell_type": "code",
   "execution_count": 9,
   "metadata": {},
   "outputs": [],
   "source": [
    "from jqdatasdk import *\n",
    "auth('18161870857','ZTYhyh123123') \n",
    "import datetime\n",
    "import pandas as pd\n",
    "# 设置行列不忽略\n",
    "pd.set_option('display.max_rows',10000)\n",
    "pd.set_option('display.max_columns',1000)"
   ]
  },
  {
   "cell_type": "code",
   "execution_count": 10,
   "metadata": {},
   "outputs": [],
   "source": [
    "# 获取所有A股股票列表\n",
    "def get_stock_list():\n",
    "    stocks = list(get_all_securities(['stock']).index)\n",
    "    return stocks"
   ]
  },
  {
   "cell_type": "code",
   "execution_count": 11,
   "metadata": {},
   "outputs": [],
   "source": [
    "# 获取单个股票行情数据\n",
    "def get_single_stock_price(code,time_freq,start_date,end_date):\n",
    "    data = get_price(code,start_date=start_date,end_date=end_date,frequency=time_freq,panel=False)\n",
    "    return data"
   ]
  },
  {
   "cell_type": "code",
   "execution_count": 12,
   "metadata": {},
   "outputs": [],
   "source": [
    "# 导出股票数据 type表示 股票数据类型，可以是price，可以是finance\n",
    "def export_data(data,filename,type): \n",
    "    file_root = 'C:/Users/吕强/Desktop/quantAnalysis/data/' + type + '/' + filename + '.csv'\n",
    "    data.to_csv(file_root)\n",
    "    print('已成功存储至: ',file_root)"
   ]
  },
  {
   "cell_type": "code",
   "execution_count": 13,
   "metadata": {},
   "outputs": [],
   "source": [
    "#将数据转换为指定周期：开盘价，收盘价，最高价，最低价\n",
    "def transfer_price_freq(data,time_freq):\n",
    "    df_trans = pd.DataFrame()\n",
    "    df_trans['open'] = data['open'].resample(time_freq).first()\n",
    "    df_trans['close'] = data['close'].resample(time_freq).last()\n",
    "    df_trans['high'] = data['high'].resample(time_freq).max()\n",
    "    df_trans['low'] = data['low'].resample(time_freq).min()\n",
    "    return df_trans"
   ]
  },
  {
   "cell_type": "code",
   "execution_count": 15,
   "metadata": {},
   "outputs": [],
   "source": [
    "# 获取单个股票财务指标\n",
    "def get_single_finance(code,date,statDate):\n",
    "    data = get_fundamentals(query(indicator).filter(indicator.code == code),date=date, statDate=statDate)\n",
    "    return data"
   ]
  },
  {
   "cell_type": "code",
   "execution_count": null,
   "metadata": {},
   "outputs": [],
   "source": [
    "# 获取单个股票估值指标\n",
    "def get_single__valuation(code,date,statDate):\n",
    "    data = get_fundamentals(query(valuation).filter(valuation.code == code), date=date,statDate=statDate)\n",
    "    return data"
   ]
  }
 ],
 "metadata": {
  "kernelspec": {
   "display_name": "dd",
   "language": "python",
   "name": "python3"
  },
  "language_info": {
   "codemirror_mode": {
    "name": "ipython",
    "version": 3
   },
   "file_extension": ".py",
   "mimetype": "text/x-python",
   "name": "python",
   "nbconvert_exporter": "python",
   "pygments_lexer": "ipython3",
   "version": "3.9.17"
  },
  "orig_nbformat": 4
 },
 "nbformat": 4,
 "nbformat_minor": 2
}
