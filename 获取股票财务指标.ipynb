{
 "cells": [
  {
   "cell_type": "code",
   "execution_count": 1,
   "metadata": {},
   "outputs": [
    {
     "name": "stdout",
     "output_type": "stream",
     "text": [
      "auth success \n"
     ]
    }
   ],
   "source": [
    "from jqdatasdk import *\n",
    "auth('18161870857','ZTYhyh123123') \n",
    "import time\n",
    "import pandas as pd"
   ]
  },
  {
   "cell_type": "code",
   "execution_count": 2,
   "metadata": {},
   "outputs": [],
   "source": [
    "# 设置行列不忽略\n",
    "pd.set_option('display.max_rows',10000)\n",
    "pd.set_option('display.max_columns',1000)"
   ]
  },
  {
   "cell_type": "code",
   "execution_count": 5,
   "metadata": {},
   "outputs": [],
   "source": [
    "# 获取股票财务指标\n",
    "df = get_fundamentals(query(indicator),statDate='2022')\n",
    "df.to_csv('data/finance/finance2022.csv') "
   ]
  },
  {
   "cell_type": "code",
   "execution_count": 6,
   "metadata": {},
   "outputs": [
    {
     "data": {
      "text/html": [
       "<div>\n",
       "<style scoped>\n",
       "    .dataframe tbody tr th:only-of-type {\n",
       "        vertical-align: middle;\n",
       "    }\n",
       "\n",
       "    .dataframe tbody tr th {\n",
       "        vertical-align: top;\n",
       "    }\n",
       "\n",
       "    .dataframe thead th {\n",
       "        text-align: right;\n",
       "    }\n",
       "</style>\n",
       "<table border=\"1\" class=\"dataframe\">\n",
       "  <thead>\n",
       "    <tr style=\"text-align: right;\">\n",
       "      <th></th>\n",
       "      <th>id</th>\n",
       "      <th>code</th>\n",
       "      <th>statDate</th>\n",
       "      <th>pubDate</th>\n",
       "      <th>statDate.1</th>\n",
       "      <th>...</th>\n",
       "      <th>inc_operation_profit_annual</th>\n",
       "      <th>inc_net_profit_year_on_year</th>\n",
       "      <th>inc_net_profit_annual</th>\n",
       "      <th>inc_net_profit_to_shareholders_year_on_year</th>\n",
       "      <th>inc_net_profit_to_shareholders_annual</th>\n",
       "    </tr>\n",
       "  </thead>\n",
       "  <tbody>\n",
       "    <tr>\n",
       "      <th>0</th>\n",
       "      <td>181745</td>\n",
       "      <td>301059.XSHE</td>\n",
       "      <td>2022-12-31</td>\n",
       "      <td>2023-02-09</td>\n",
       "      <td>2022-12-31</td>\n",
       "      <td>...</td>\n",
       "      <td>NaN</td>\n",
       "      <td>30.5074</td>\n",
       "      <td>NaN</td>\n",
       "      <td>30.5074</td>\n",
       "      <td>NaN</td>\n",
       "    </tr>\n",
       "    <tr>\n",
       "      <th>2</th>\n",
       "      <td>181747</td>\n",
       "      <td>301076.XSHE</td>\n",
       "      <td>2022-12-31</td>\n",
       "      <td>2023-02-18</td>\n",
       "      <td>2022-12-31</td>\n",
       "      <td>...</td>\n",
       "      <td>NaN</td>\n",
       "      <td>61.3215</td>\n",
       "      <td>NaN</td>\n",
       "      <td>61.3215</td>\n",
       "      <td>NaN</td>\n",
       "    </tr>\n",
       "    <tr>\n",
       "      <th>4</th>\n",
       "      <td>181749</td>\n",
       "      <td>603077.XSHG</td>\n",
       "      <td>2022-12-31</td>\n",
       "      <td>2023-02-21</td>\n",
       "      <td>2022-12-31</td>\n",
       "      <td>...</td>\n",
       "      <td>NaN</td>\n",
       "      <td>25.8958</td>\n",
       "      <td>NaN</td>\n",
       "      <td>26.1171</td>\n",
       "      <td>NaN</td>\n",
       "    </tr>\n",
       "    <tr>\n",
       "      <th>10</th>\n",
       "      <td>181755</td>\n",
       "      <td>688082.XSHG</td>\n",
       "      <td>2022-12-31</td>\n",
       "      <td>2023-02-25</td>\n",
       "      <td>2022-12-31</td>\n",
       "      <td>...</td>\n",
       "      <td>NaN</td>\n",
       "      <td>151.0766</td>\n",
       "      <td>NaN</td>\n",
       "      <td>151.0766</td>\n",
       "      <td>NaN</td>\n",
       "    </tr>\n",
       "    <tr>\n",
       "      <th>11</th>\n",
       "      <td>181756</td>\n",
       "      <td>000972.XSHE</td>\n",
       "      <td>2022-12-31</td>\n",
       "      <td>2023-02-25</td>\n",
       "      <td>2022-12-31</td>\n",
       "      <td>...</td>\n",
       "      <td>NaN</td>\n",
       "      <td>124.4065</td>\n",
       "      <td>NaN</td>\n",
       "      <td>124.4209</td>\n",
       "      <td>NaN</td>\n",
       "    </tr>\n",
       "  </tbody>\n",
       "</table>\n",
       "<p>5 rows × 36 columns</p>\n",
       "</div>"
      ],
      "text/plain": [
       "        id         code    statDate     pubDate  statDate.1  ...  \\\n",
       "0   181745  301059.XSHE  2022-12-31  2023-02-09  2022-12-31  ...   \n",
       "2   181747  301076.XSHE  2022-12-31  2023-02-18  2022-12-31  ...   \n",
       "4   181749  603077.XSHG  2022-12-31  2023-02-21  2022-12-31  ...   \n",
       "10  181755  688082.XSHG  2022-12-31  2023-02-25  2022-12-31  ...   \n",
       "11  181756  000972.XSHE  2022-12-31  2023-02-25  2022-12-31  ...   \n",
       "\n",
       "    inc_operation_profit_annual  inc_net_profit_year_on_year  \\\n",
       "0                           NaN                      30.5074   \n",
       "2                           NaN                      61.3215   \n",
       "4                           NaN                      25.8958   \n",
       "10                          NaN                     151.0766   \n",
       "11                          NaN                     124.4065   \n",
       "\n",
       "    inc_net_profit_annual  inc_net_profit_to_shareholders_year_on_year  \\\n",
       "0                     NaN                                      30.5074   \n",
       "2                     NaN                                      61.3215   \n",
       "4                     NaN                                      26.1171   \n",
       "10                    NaN                                     151.0766   \n",
       "11                    NaN                                     124.4209   \n",
       "\n",
       "    inc_net_profit_to_shareholders_annual  \n",
       "0                                     NaN  \n",
       "2                                     NaN  \n",
       "4                                     NaN  \n",
       "10                                    NaN  \n",
       "11                                    NaN  \n",
       "\n",
       "[5 rows x 36 columns]"
      ]
     },
     "execution_count": 6,
     "metadata": {},
     "output_type": "execute_result"
    }
   ],
   "source": [
    "# 基于盈利指标选股： eps, operating_profit(净利润),roe,inc_net_profit_year_on_year\n",
    "df = df[(df['eps'] > 0) & (df['roe'] > 10) & (df['inc_net_profit_year_on_year'] > 10)]\n",
    "df.head()"
   ]
  }
 ],
 "metadata": {
  "kernelspec": {
   "display_name": "dd",
   "language": "python",
   "name": "python3"
  },
  "language_info": {
   "codemirror_mode": {
    "name": "ipython",
    "version": 3
   },
   "file_extension": ".py",
   "mimetype": "text/x-python",
   "name": "python",
   "nbconvert_exporter": "python",
   "pygments_lexer": "ipython3",
   "version": "3.9.17"
  },
  "orig_nbformat": 4
 },
 "nbformat": 4,
 "nbformat_minor": 2
}
